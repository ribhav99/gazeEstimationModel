{
 "cells": [
  {
   "attachments": {},
   "cell_type": "markdown",
   "metadata": {},
   "source": [
    "# Imports and Fixed Variables"
   ]
  },
  {
   "cell_type": "code",
   "execution_count": 1,
   "metadata": {},
   "outputs": [],
   "source": [
    "import torch\n",
    "import torch.nn as nn\n",
    "import os\n",
    "import numpy as np\n",
    "from tqdm import trange\n",
    "import matplotlib.pyplot as plt\n",
    "from torch.utils.data import Dataset\n",
    "import json"
   ]
  },
  {
   "cell_type": "code",
   "execution_count": 2,
   "metadata": {},
   "outputs": [],
   "source": [
    "data = 'output'\n",
    "device = torch.device('cuda' if torch.cuda.is_available() else 'mps' if torch.backends.mps.is_available() else 'cpu')"
   ]
  },
  {
   "cell_type": "code",
   "execution_count": 3,
   "metadata": {},
   "outputs": [
    {
     "data": {
      "text/plain": [
       "device(type='mps')"
      ]
     },
     "execution_count": 3,
     "metadata": {},
     "output_type": "execute_result"
    }
   ],
   "source": [
    "device"
   ]
  },
  {
   "attachments": {},
   "cell_type": "markdown",
   "metadata": {},
   "source": [
    "# Dataloader"
   ]
  },
  {
   "cell_type": "code",
   "execution_count": 4,
   "metadata": {},
   "outputs": [],
   "source": [
    "def increment_pixel_gaussian(image, center, sigma):\n",
    "    # Create a 2D Gaussian kernel\n",
    "    kernel_size = int(2 * np.ceil(2 * sigma) + 1)\n",
    "    kernel = np.zeros((kernel_size, kernel_size))\n",
    "    center_index = int(kernel_size / 2)\n",
    "    for i in range(kernel_size):\n",
    "        for j in range(kernel_size):\n",
    "            x = i - center_index\n",
    "            y = j - center_index\n",
    "            kernel[i, j] = np.exp(-(x ** 2 + y ** 2) / (2 * sigma ** 2))\n",
    "    kernel /= np.sum(kernel)\n",
    "    \n",
    "    # Increment the pixel values according to the Gaussian kernel\n",
    "    row, col = int(center[0]), int(center[1])\n",
    "    row_min = int(max(row - center_index, 0))\n",
    "    row_max = int(min(row + center_index + 1, image.shape[0]))\n",
    "    col_min = int(max(col - center_index, 0))\n",
    "    col_max = int(min(col + center_index + 1, image.shape[1]))\n",
    "    window = image[row_min:row_max, col_min:col_max]\n",
    "    weights = kernel[center_index - (row - row_min):center_index + (row_max - row), \n",
    "                     center_index - (col - col_min):center_index + (col_max - col)]\n",
    "    window += weights\n",
    "    image[row_min:row_max, col_min:col_max] = window\n",
    "    return image"
   ]
  },
  {
   "cell_type": "code",
   "execution_count": 5,
   "metadata": {},
   "outputs": [],
   "source": [
    "class SaliencyMapAudio(Dataset):\n",
    "    def __init__(self, processed_data_path):\n",
    "        self.filler = np.array([-36.04365338911715,0.0,0.0,0.0,0.0,0.0,-3.432169450445466e-14,0.0,0.0,0.0,9.64028691651994e-15,0.0,0.0,-36.04365338911715,-36.04365338911715,-36.04365338911715,-36.04365338911715,-36.04365338911715,-36.04365338911715,-36.04365338911715,-36.04365338911715,-36.04365338911715,-36.04365338911715,-36.04365338911715,-36.04365338911715,-36.04365338911715,-36.04365338911715,-36.04365338911715,-36.04365338911715,-36.04365338911715,-36.04365338911715,-36.04365338911715,-36.04365338911715,-36.04365338911715,-36.04365338911715,-36.04365338911715,-36.04365338911715,-36.04365338911715,-36.04365338911715,-36.04365338911715,-36.04365338911715,-36.04365338911715,-36.04365338911715,-36.04365338911715,-36.04365338911715,-36.04365338911715,-36.04365338911715,-36.04365338911715,-36.04365338911715,-36.04365338911715,-36.04365338911715,-36.04365338911715,-36.04365338911715,-36.04365338911715,-36.04365338911715,-36.04365338911715,-36.04365338911715,-36.04365338911715,-36.04365338911715,-36.04365338911715,-36.04365338911715,-36.04365338911715,-36.04365338911715,-36.04365338911715,-36.04365338911715])\n",
    "        # save dataset root path\n",
    "        self.data_root_path = processed_data_path\n",
    "        # load video names\n",
    "        video_names_path = os.path.join(*[self.data_root_path, \"video_to_window_metadata.json\"])\n",
    "        self.metadata = json.load(open(video_names_path, \"r\"))\n",
    "        self.all_files_in_set = []\n",
    "        videos_included = list(self.metadata.keys())\n",
    "        for i in videos_included:\n",
    "            self.all_files_in_set = self.all_files_in_set + self.metadata[i]\n",
    "\n",
    "    def __len__(self):\n",
    "        return len(self.all_files_in_set)\n",
    "    \n",
    "    def __getitem__(self, idx):\n",
    "        onscreen_audio_feature_path = os.path.join(*[self.data_root_path, \"audio\", \"clip_{}_speaker_{}.npy\".format(idx, 0)])\n",
    "        offscreen_audio_feature_path = os.path.join(*[self.data_root_path, \"audio\", \"clip_{}_speaker_{}.npy\".format(idx, 1)])\n",
    "        onscreen_text_feature_path = os.path.join(*[self.data_root_path, \"text\", \"clip_{}_speaker_{}.npy\".format(idx, 0)])\n",
    "        offscreen_text_feature_path = os.path.join(*[self.data_root_path, \"text\", \"clip_{}_speaker_{}.npy\".format(idx, 1)])\n",
    "        \n",
    "        input_audio_on_screen = np.load(onscreen_audio_feature_path)\n",
    "        input_audio_off_screen = np.load(offscreen_audio_feature_path)\n",
    "        \n",
    "        input_text_on_screen = np.load(onscreen_text_feature_path)\n",
    "        input_text_off_screen = np.load(offscreen_text_feature_path)\n",
    "            \n",
    "        if input_audio_on_screen.shape[0] < input_text_on_screen.shape[0]:\n",
    "            missing_frames = input_text_on_screen.shape[0] - input_audio_on_screen.shape[0]\n",
    "            padding = np.tile(np.expand_dims(self.filler, axis=0), [missing_frames, 1])\n",
    "            input_audio_on_screen = np.concatenate([input_audio_on_screen, padding], axis=0)\n",
    "            input_audio_off_screen = np.concatenate([input_audio_off_screen, padding], axis=0)\n",
    "        input_vector_onscreen = np.concatenate([input_audio_on_screen, input_text_on_screen], axis=1)\n",
    "        input_vector_offscreen = np.concatenate([input_audio_off_screen, input_text_off_screen], axis=1)\n",
    "        input_vector = np.concatenate([input_vector_onscreen, input_vector_offscreen], axis=1)\n",
    "\n",
    "        saliency_map = np.load(os.path.join(self.data_root_path, \"saliency_map\", f\"clip_{idx}.npy\"))\n",
    "\n",
    "        fixations = np.load(os.path.join(self.data_root_path, \"fixation\", f\"clip_{idx}.npy\"))\n",
    "        if len(fixations.shape) == 2:\n",
    "            targets = []\n",
    "            for i in range(fixations.shape[0]):\n",
    "                cur_target = np.zeros(saliency_map.shape)\n",
    "                fixation_center = fixations[i]\n",
    "                image_to_add = increment_pixel_gaussian(cur_target, fixation_center, 10)\n",
    "                assert cur_target.shape == image_to_add.shape\n",
    "                targets.append(image_to_add)\n",
    "        else:\n",
    "            targets = [np.zeros(saliency_map.shape) for _ in range(input_vector.shape[0])]\n",
    "\n",
    "        input_vector = input_vector.reshape(input_vector.shape[0], 1, input_vector.shape[1])\n",
    "        saliency_map = np.array([saliency_map for _ in range(input_vector.shape[0])])\n",
    "        return input_vector, np.expand_dims(saliency_map, 1), np.array(targets)"
   ]
  },
  {
   "cell_type": "code",
   "execution_count": 6,
   "metadata": {},
   "outputs": [],
   "source": [
    "dataset = SaliencyMapAudio('output')"
   ]
  },
  {
   "cell_type": "code",
   "execution_count": 7,
   "metadata": {},
   "outputs": [
    {
     "name": "stdout",
     "output_type": "stream",
     "text": [
      "(250, 1, 1674)\n",
      "(250, 1, 288, 472)\n",
      "(250, 288, 472)\n"
     ]
    }
   ],
   "source": [
    "# x1 is the input vector\n",
    "# x2 is the saliency map\n",
    "# y is the target\n",
    "original_x1 = dataset.__getitem__(0)[0]\n",
    "original_x2 = dataset.__getitem__(0)[1]\n",
    "original_y= dataset.__getitem__(0)[2]\n",
    "print(original_x1.shape)\n",
    "print(original_x2.shape)\n",
    "print(original_y.shape)"
   ]
  },
  {
   "cell_type": "code",
   "execution_count": 9,
   "metadata": {},
   "outputs": [
    {
     "data": {
      "text/plain": [
       "<matplotlib.image.AxesImage at 0x28a1f0bb0>"
      ]
     },
     "execution_count": 9,
     "metadata": {},
     "output_type": "execute_result"
    },
    {
     "data": {
      "image/png": "[encoded data removed]",
      "text/plain": [
       "<Figure size 640x480 with 1 Axes>"
      ]
     },
     "metadata": {},
     "output_type": "display_data"
    }
   ],
   "source": [
    "plt.imshow(original_y[0])"
   ]
  },
  {
   "attachments": {},
   "cell_type": "markdown",
   "metadata": {},
   "source": [
    "# Network Architecture"
   ]
  },
  {
   "cell_type": "code",
   "execution_count": 10,
   "metadata": {},
   "outputs": [],
   "source": [
    "class ImageAudioNet(nn.Module):\n",
    "\n",
    "    def __init__(self, input_size, image_width, image_height):\n",
    "        # torch.set_default_tensor_type(torch.DoubleTensor)\n",
    "        super().__init__()\n",
    "        lstm_hidden_size = 512\n",
    "        num_lstm_lyers = 5\n",
    "        self.activation = nn.Sigmoid()\n",
    "        dropout = 0.2\n",
    "        bidirectional = True\n",
    "        kernel_size = 7\n",
    "        upconv_stride = (2, 1)\n",
    "        dilation = (7, 11)\n",
    "        upconv_kernel_size = (6, 11)\n",
    "        output_padding = (3, 3)\n",
    "\n",
    "        # Audio Net\n",
    "        self.lstm = nn.LSTM(input_size=input_size, hidden_size=lstm_hidden_size, num_layers=num_lstm_lyers, batch_first=True, bidirectional=bidirectional)\n",
    "        self.audio_output1 = [nn.Linear(lstm_hidden_size*2 if bidirectional else lstm_hidden_size, 512), self.activation, nn.Dropout(dropout)]\n",
    "        self.audio_output2 = [nn.Linear(512, 256), self.activation, nn.Dropout(dropout)]\n",
    "        self.audio_output3 = [nn.Linear(256, 128), nn.Sigmoid()]\n",
    "        self.audio_output = nn.Sequential(*self.audio_output1, *self.audio_output2, *self.audio_output3)\n",
    "\n",
    "        # Image Net\n",
    "        self.conv1 = nn.Conv2d(1, 4, kernel_size)\n",
    "        self.conv2 = nn.Conv2d(4, 8, kernel_size)\n",
    "        self.conv3 = nn.Conv2d(8, 1, kernel_size)\n",
    "        width = self.compute_conv_image_dim(3, kernel_size, 1, 0, image_width)\n",
    "        height = self.compute_conv_image_dim(3, kernel_size, 1, 0, image_height)\n",
    "        self.image_output1 = [nn.Linear(int(width*height), 512), self.activation, nn.Dropout(dropout)]\n",
    "        self.image_output2 = [nn.Linear(512, 256), self.activation, nn.Dropout(dropout)]\n",
    "        self.image_output3 = [nn.Linear(256, 128), nn.Sigmoid()]\n",
    "        self.image_output = nn.Sequential(*self.image_output1, *self.image_output2, *self.image_output3)\n",
    "\n",
    "        # Upconv net\n",
    "        self.upconv1 = nn.ConvTranspose2d(1, 4, kernel_size=upconv_kernel_size, stride=upconv_stride, dilation=dilation, output_padding=output_padding)\n",
    "        self.upconv2 = nn.ConvTranspose2d(4, 8, kernel_size=upconv_kernel_size, stride=upconv_stride, dilation=dilation, output_padding=output_padding)\n",
    "        self.upconv3 = nn.ConvTranspose2d(8, 1, kernel_size=upconv_kernel_size, stride=upconv_stride, dilation=dilation, output_padding=output_padding)\n",
    "        self.upconv_output = nn.Sequential(self.upconv1, self.upconv2, self.upconv3, nn.Sigmoid())\n",
    "        # W_out = (W_in −1)×stride[1] + dilation[1]×(kernel_size[1]−1) + 1\n",
    "        # image_width = (intermediate.shape[1] - 1) * upconv_stride[1] + dilation[1] * (kernel_size - 1) + 1\n",
    "    \n",
    "    def forward(self, x1, x2):\n",
    "        # Audio Net\n",
    "        x1_out, x1_hidden = self.lstm(x1)\n",
    "        x1_out = self.audio_output(x1_out)\n",
    "\n",
    "        # Image Net\n",
    "        x2_out = self.conv1(x2)\n",
    "        x2_out = self.conv2(x2_out)\n",
    "        x2_out = self.conv3(x2_out)\n",
    "        x2_out = x2_out.view(x2_out.size(0), -1)\n",
    "        x2_out = self.image_output(x2_out)\n",
    "\n",
    "        if len(x1_out.shape) == 3:\n",
    "            x1_out = x1_out.squeeze()\n",
    "        intermediate_output = torch.vstack((x1_out, x2_out))\n",
    "        # Tensor of size (N, 2, 128)\n",
    "        intermediate_output = intermediate_output.reshape(x1_out.shape[0], 1, 2, 128)\n",
    "\n",
    "        output = self.upconv_output(intermediate_output)\n",
    "        pad = (3, 2, 7, 6) # pad width by 3 on left and 2 on right, pad height by 7 on top and 6 on bottom\n",
    "        output = nn.functional.pad(output, pad)\n",
    "        return output\n",
    "    \n",
    "    def compute_conv_image_dim(self, num_convs, kernel_size, stride, padding, input_dim):\n",
    "        for _ in range(num_convs):\n",
    "            input_dim = (input_dim - kernel_size + 2*padding)/stride + 1\n",
    "        return input_dim\n",
    "    \n",
    "    def compute_upconv_image_dim(self, num_convs, kernel_size, stride, padding, input_dim):\n",
    "        for _ in range(num_convs):\n",
    "            input_dim = (input_dim - 1)*stride - 2*padding + kernel_size - 1\n",
    "        return input_dim"
   ]
  },
  {
   "cell_type": "code",
   "execution_count": 11,
   "metadata": {},
   "outputs": [
    {
     "data": {
      "text/plain": [
       "torch.Size([5, 1, 288, 472])"
      ]
     },
     "execution_count": 11,
     "metadata": {},
     "output_type": "execute_result"
    }
   ],
   "source": [
    "model = ImageAudioNet(original_x1.shape[2], original_x2.shape[3], original_x2.shape[2])\n",
    "model(torch.tensor(original_x1)[0:5].to(torch.float32), torch.tensor(original_x2)[0:5].to(torch.float32)).shape"
   ]
  },
  {
   "attachments": {},
   "cell_type": "markdown",
   "metadata": {},
   "source": [
    "# Training Loop"
   ]
  },
  {
   "cell_type": "code",
   "execution_count": 12,
   "metadata": {},
   "outputs": [
    {
     "name": "stderr",
     "output_type": "stream",
     "text": [
      "  0%|          | 0/100 [00:00<?, ?it/s]"
     ]
    },
    {
     "ename": "",
     "evalue": "",
     "output_type": "error",
     "traceback": [
      "\u001b[1;31mCanceled future for execute_request message before replies were done"
     ]
    },
    {
     "ename": "",
     "evalue": "",
     "output_type": "error",
     "traceback": [
      "\u001b[1;31mThe Kernel crashed while executing code in the the current cell or a previous cell. Please review the code in the cell(s) to identify a possible cause of the failure. Click <a href='https://aka.ms/vscodeJupyterKernelCrash'>here</a> for more info. View Jupyter <a href='command:jupyter.viewOutput'>log</a> for further details."
     ]
    }
   ],
   "source": [
    "epochs = 100\n",
    "optimiser = torch.optim.Adam(model.parameters(), lr=0.0001)\n",
    "model.to(torch.float32)\n",
    "model.to(device)\n",
    "model.train() \n",
    "loss_fn = nn.CrossEntropyLoss()\n",
    "training_loss = []\n",
    "\n",
    "for epoch in trange(1, epochs + 1):\n",
    "    total_train_loss = 0\n",
    "    \n",
    "    for i in trange(dataset.__len__()):\n",
    "        x1, x2, y = dataset.__getitem__(i)\n",
    "        x1, x2, y = torch.tensor(x1).to(torch.float32), torch.tensor(x2).to(torch.float32), torch.tensor(y).to(torch.float32)\n",
    "        x1, x2, y = x1.to(device), x2.to(device), y.to(device)\n",
    "        pred = model(x1, x2)\n",
    "        loss = loss_fn(pred, y)\n",
    "        loss.backward()\n",
    "        optimiser.step()\n",
    "        total_train_loss += loss.item()\n",
    "        del x1, x2, y, pred\n",
    "        torch.cuda.empty_cache()\n",
    "        \n",
    "    training_loss.append(total_train_loss/len(dataset))"
   ]
  },
  {
   "cell_type": "code",
   "execution_count": null,
   "metadata": {},
   "outputs": [],
   "source": []
  }
 ],
 "metadata": {
  "kernelspec": {
   "display_name": "Python 3",
   "language": "python",
   "name": "python3"
  },
  "language_info": {
   "codemirror_mode": {
    "name": "ipython",
    "version": 3
   },
   "file_extension": ".py",
   "mimetype": "text/x-python",
   "name": "python",
   "nbconvert_exporter": "python",
   "pygments_lexer": "ipython3",
   "version": "3.9.6"
  },
  "orig_nbformat": 4
 },
 "nbformat": 4,
 "nbformat_minor": 2
}
